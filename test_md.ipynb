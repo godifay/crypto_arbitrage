{
 "cells": [
  {
   "cell_type": "markdown",
   "id": "b8152d2e-6a85-4a8e-afdb-6da8078b8ebd",
   "metadata": {},
   "source": [
    "### This a title"
   ]
  },
  {
   "cell_type": "markdown",
   "id": "b97c6b6f-bb3b-4145-bb0a-3dae77d4299a",
   "metadata": {},
   "source": [
    "** this is bold **"
   ]
  },
  {
   "cell_type": "code",
   "execution_count": null,
   "id": "cb9ea60c-f55d-4971-a220-b9eb5d266e89",
   "metadata": {},
   "outputs": [],
   "source": []
  }
 ],
 "metadata": {
  "kernelspec": {
   "display_name": "Python 3",
   "language": "python",
   "name": "python3"
  },
  "language_info": {
   "codemirror_mode": {
    "name": "ipython",
    "version": 3
   },
   "file_extension": ".py",
   "mimetype": "text/x-python",
   "name": "python",
   "nbconvert_exporter": "python",
   "pygments_lexer": "ipython3",
   "version": "3.8.8"
  }
 },
 "nbformat": 4,
 "nbformat_minor": 5
}
